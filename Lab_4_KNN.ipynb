{
  "nbformat": 4,
  "nbformat_minor": 0,
  "metadata": {
    "colab": {
      "name": "Lab 4 KNN.ipynb",
      "provenance": [],
      "collapsed_sections": []
    },
    "kernelspec": {
      "name": "python3",
      "display_name": "Python 3"
    },
    "language_info": {
      "name": "python"
    }
  },
  "cells": [
    {
      "cell_type": "code",
      "metadata": {
        "id": "FLfMxiYjbnVP"
      },
      "source": [
        "from sklearn.base import BaseEstimator, ClassifierMixin\n",
        "from sklearn.neighbors import KNeighborsClassifier, KNeighborsRegressor\n",
        "import numpy as np\n",
        "import matplotlib.pyplot as plt\n",
        "import operator"
      ],
      "execution_count": 161,
      "outputs": []
    },
    {
      "cell_type": "code",
      "metadata": {
        "id": "IUpTlLJYbu_S"
      },
      "source": [
        "class KNNClassifier(BaseEstimator,ClassifierMixin):\n",
        "    def __init__(self, columntype=[], weight_type='inverse_distance', regression=False): ## add parameters here\n",
        "        \"\"\"\n",
        "        Args:\n",
        "            columntype for each column tells you if continues[real] or if nominal[categoritcal].\n",
        "            weight_type: inverse_distance voting or if non distance weighting. Options = [\"no_weight\",\"inverse_distance\"]\n",
        "        \"\"\"\n",
        "        self.columntype = columntype #Note This won't be needed until part 5\n",
        "        self.weight_type = weight_type\n",
        "        self.regression = regression\n",
        "\n",
        "    def fit(self, data, labels):\n",
        "        \"\"\" Fit the data; run the algorithm (for this lab really just saves the data :D)\n",
        "        Args:\n",
        "            X (array-like): A 2D numpy array with the training data, excluding targets\n",
        "            y (array-like): A 2D numpy array with the training targets\n",
        "        Returns:\n",
        "            self: this allows this to be chained, e.g. model.fit(X,y).predict(X_test)\n",
        "        \"\"\"\n",
        "\n",
        "        self.training_data = data\n",
        "        self.training_labels = labels\n",
        "\n",
        "        return self\n",
        "    \n",
        "    def predict(self, data, k, regression=False):\n",
        "        \"\"\" Predict all classes for a dataset X\n",
        "        Args:\n",
        "            X (array-like): A 2D numpy array with the training data, excluding targets\n",
        "        Returns:\n",
        "            array, shape (n_samples,)\n",
        "                Predicted target values per element in X.\n",
        "        \"\"\"\n",
        "        predictions = []\n",
        "        for x in data:\n",
        "          distances = np.zeros((len(self.training_labels),1))\n",
        "          new_data = np.array(self.training_data, dtype=float)\n",
        "          new_x = np.array(x, dtype=float)\n",
        "          distances = np.linalg.norm(new_data - new_x,axis=1)\n",
        "\n",
        "          distances = np.c_[distances, self.training_labels]\n",
        "          distances = distances[np.argsort(distances[:,0])]\n",
        "          neighbors = distances[:k]\n",
        "\n",
        "          if self.weight_type == 'inverse_distance':\n",
        "\n",
        "            if regression == False: \n",
        "              weighted_votes = {}\n",
        "              weighted_neighbors = np.zeros_like(neighbors)\n",
        "\n",
        "              for n in range(neighbors.shape[0]):\n",
        "                weighted_neighbors[n][0] = 1/neighbors[n][0]**2\n",
        "                weighted_neighbors[n][1] = neighbors[n][1]\n",
        "\n",
        "              for wn in weighted_neighbors:\n",
        "                if wn[1] in weighted_votes:\n",
        "                  weighted_votes[wn[1]] += wn[0]\n",
        "                else:\n",
        "                  weighted_votes[wn[1]] = wn[0]\n",
        "    \n",
        "              predictions.append(max(weighted_votes.items(), key=operator.itemgetter(1))[0])\n",
        "            else:\n",
        "              values = []\n",
        "              weights = []\n",
        "              for i, val in neighbors:\n",
        "                weight = 1/i**2\n",
        "                weights.append(weight)\n",
        "                values.append(val*weight)\n",
        "              \n",
        "              predictions.append(np.array(values).sum()/np.array(weights).sum())\n",
        "\n",
        "          else:\n",
        "            outputs = [row[-1] for row in neighbors]\n",
        "            \n",
        "            if regression == False:\n",
        "              predictions.append(max(set(outputs), key=outputs.count))\n",
        "            else:\n",
        "              values = []\n",
        "              weights = []\n",
        "              for i, val in neighbors:\n",
        "                weights.append(i)\n",
        "                values.append(val*i)\n",
        "              \n",
        "              predictions.append(np.array(values).sum()/np.array(weights).sum())\n",
        "\n",
        "        return predictions\n",
        "\n",
        "    #Returns the Mean score given input data and labels\n",
        "    def score(self, X, y, k, regression=False, mse=False):\n",
        "        \"\"\" Return accuracy of model on a given dataset. Must implement own score function.\n",
        "        Args:\n",
        "            X (array-like): A 2D numpy array with data, excluding targets\n",
        "            y (array-like): A 2D numpy array with targets\n",
        "        Returns:\n",
        "            score : float\n",
        "                Mean accuracy of self.predict(X) wrt. y.\n",
        "        \"\"\"\n",
        "\n",
        "        \n",
        "        predictions = np.array(self.predict(X, k, regression))\n",
        "        if mse == False:\n",
        "          num_correct = 0\n",
        "          for i in range(len(predictions)):\n",
        "            if predictions[i] == y[i]:\n",
        "              num_correct += 1\n",
        "\n",
        "          return num_correct/len(y)\n",
        "        else:\n",
        "          return np.square(np.subtract(y, predictions)).mean()"
      ],
      "execution_count": 162,
      "outputs": []
    },
    {
      "cell_type": "code",
      "metadata": {
        "colab": {
          "base_uri": "https://localhost:8080/"
        },
        "id": "mXlXo_PcJgiI",
        "outputId": "40dcc20a-c3ee-439b-8abe-e637c9349911"
      },
      "source": [
        "## DEBUG SET ##\n",
        "\n",
        "from scipy.io import arff\n",
        "import pandas as pd\n",
        "\n",
        "# Download file with curl\n",
        "!curl https://raw.githubusercontent.com/cs472ta/CS472/master/datasets/seismic-bumps_train.arff --output debug-training-dataset.arff\n",
        "\n",
        "data = arff.loadarff('debug-training-dataset.arff')\n",
        "df = pd.DataFrame(data[0])\n",
        "\n",
        "df['Class'] = [int(s.decode()) for s in df['Class']]\n",
        "\n",
        "data = np.array(df)\n",
        "X = data[:,0:-1]\n",
        "y = df['Class']\n",
        "\n",
        "debugKNN = KNNClassifier()\n",
        "debugKNN.fit(X,y)\n",
        "\n",
        "!curl https://raw.githubusercontent.com/cs472ta/CS472/master/datasets/seismic-bumps_test.arff --output debug-test-dataset.arff\n",
        "\n",
        "test_data = arff.loadarff('debug-test-dataset.arff')\n",
        "test_df = pd.DataFrame(test_data[0])\n",
        "\n",
        "test_df['Class'] = [int(s.decode()) for s in test_df['Class']]\n",
        "\n",
        "test_data = np.array(test_df)\n",
        "test_X = test_data[:,0:-1]\n",
        "test_y = test_df['Class']\n",
        "\n",
        "accuracy = debugKNN.score(test_X, test_y, 3)\n",
        "\n",
        "print(\"\\n\\nFinal debug accuracy: \", accuracy)"
      ],
      "execution_count": 163,
      "outputs": [
        {
          "output_type": "stream",
          "text": [
            "  % Total    % Received % Xferd  Average Speed   Time    Time     Time  Current\n",
            "                                 Dload  Upload   Total   Spent    Left  Speed\n",
            "100  6392  100  6392    0     0  31333      0 --:--:-- --:--:-- --:--:-- 31333\n",
            "  % Total    % Received % Xferd  Average Speed   Time    Time     Time  Current\n",
            "                                 Dload  Upload   Total   Spent    Left  Speed\n",
            "100  9597  100  9597    0     0  48469      0 --:--:-- --:--:-- --:--:-- 48469\n",
            "\n",
            "\n",
            "Final debug accuracy:  0.9357142857142857\n"
          ],
          "name": "stdout"
        }
      ]
    },
    {
      "cell_type": "code",
      "metadata": {
        "colab": {
          "base_uri": "https://localhost:8080/"
        },
        "id": "rpV7B3JOyyQv",
        "outputId": "15be209e-93b9-4af7-c3fd-3842ce0e0edf"
      },
      "source": [
        "## EVALUATION SET ##\n",
        "\n",
        "!curl https://raw.githubusercontent.com/cs472ta/CS472/master/datasets/diabetes_train.arff --output eval-training-dataset.arff\n",
        "\n",
        "eval_data = arff.loadarff('eval-training-dataset.arff')\n",
        "eval_df = pd.DataFrame(eval_data[0])\n",
        "\n",
        "eval_data = np.array(eval_df)\n",
        "eval_X = eval_data[:,0:-1]\n",
        "eval_y = eval_df['class']\n",
        "\n",
        "evalKNN = KNNClassifier()\n",
        "evalKNN.fit(eval_X,eval_y)\n",
        "\n",
        "!curl https://raw.githubusercontent.com/cs472ta/CS472/master/datasets/diabetes_test.arff --output eval-test-dataset.arff\n",
        "\n",
        "eval_data2 = arff.loadarff('eval-test-dataset.arff')\n",
        "eval_df2 = pd.DataFrame(eval_data2[0])\n",
        "\n",
        "eval_data2 = np.array(eval_df2)\n",
        "eval_X2 = eval_data2[:,0:-1]\n",
        "eval_y2 = eval_df2['class']\n",
        "\n",
        "eval_accuracy = evalKNN.score(eval_X2, eval_y2, 3)\n",
        "\n",
        "print(\"\\n\\nFinal evaluation accuracy: \", eval_accuracy)"
      ],
      "execution_count": 164,
      "outputs": [
        {
          "output_type": "stream",
          "text": [
            "  % Total    % Received % Xferd  Average Speed   Time    Time     Time  Current\n",
            "                                 Dload  Upload   Total   Spent    Left  Speed\n",
            "100 37419  100 37419    0     0   163k      0 --:--:-- --:--:-- --:--:--  163k\n",
            "  % Total    % Received % Xferd  Average Speed   Time    Time     Time  Current\n",
            "                                 Dload  Upload   Total   Spent    Left  Speed\n",
            "100 73698  100 73698    0     0   328k      0 --:--:-- --:--:-- --:--:--  328k\n",
            "\n",
            "\n",
            "Final evaluation accuracy:  0.890625\n"
          ],
          "name": "stdout"
        }
      ]
    },
    {
      "cell_type": "code",
      "metadata": {
        "colab": {
          "base_uri": "https://localhost:8080/"
        },
        "id": "HagwOBmwEKiG",
        "outputId": "5c9c1330-022e-4014-b03d-0d3d89256ae1"
      },
      "source": [
        "## PART 2 ##\n",
        "## 2.1 ##\n",
        "!curl https://raw.githubusercontent.com/cs472ta/CS472/master/datasets/magic_telescope_train.arff --output two-training-dataset.arff\n",
        "\n",
        "p2_data = arff.loadarff('two-training-dataset.arff')\n",
        "p2_df = pd.DataFrame(p2_data[0])\n",
        "\n",
        "p2_data = np.array(p2_df)\n",
        "p2_X = p2_data[:,0:-1]\n",
        "p2_y = p2_df['class']\n",
        "\n",
        "p2KNN = KNNClassifier([],'no_weight')\n",
        "p2KNN.fit(p2_X,p2_y)\n",
        "\n",
        "!curl https://raw.githubusercontent.com/cs472ta/CS472/master/datasets/magic_telescope_test.arff --output two-test-dataset.arff\n",
        "\n",
        "p2_data2 = arff.loadarff('two-test-dataset.arff')\n",
        "p2_df2 = pd.DataFrame(p2_data2[0])\n",
        "\n",
        "p2_data2 = np.array(p2_df2)\n",
        "p2_X2 = p2_data2[:,0:-1]\n",
        "p2_y2 = p2_df2['class']\n",
        "\n",
        "p2_accuracy = p2KNN.score(p2_X2, p2_y2, 3)\n",
        "\n",
        "print(\"\\n\\nFinal 2.1 accuracy: \", p2_accuracy)"
      ],
      "execution_count": 165,
      "outputs": [
        {
          "output_type": "stream",
          "text": [
            "  % Total    % Received % Xferd  Average Speed   Time    Time     Time  Current\n",
            "                                 Dload  Upload   Total   Spent    Left  Speed\n",
            "100  937k  100  937k    0     0  3014k      0 --:--:-- --:--:-- --:--:-- 3014k\n",
            "  % Total    % Received % Xferd  Average Speed   Time    Time     Time  Current\n",
            "                                 Dload  Upload   Total   Spent    Left  Speed\n",
            "100  505k  100  505k    0     0  2170k      0 --:--:-- --:--:-- --:--:-- 2170k\n",
            "\n",
            "\n",
            "Final 2.1 accuracy:  0.8082808280828083\n"
          ],
          "name": "stdout"
        }
      ]
    },
    {
      "cell_type": "code",
      "metadata": {
        "id": "GCf34ZbcJPTy"
      },
      "source": [
        "def normalize(X):\n",
        "  for i in range(X.shape[1]):\n",
        "    X[:,i] = (X[:,i] - np.min(X[:,i])) / (np.max(X[:,i]) - np.min(X[:,i]))\n",
        "  return X"
      ],
      "execution_count": 166,
      "outputs": []
    },
    {
      "cell_type": "code",
      "metadata": {
        "colab": {
          "base_uri": "https://localhost:8080/"
        },
        "id": "4utLS-VvQEet",
        "outputId": "2fd881d7-1ee7-4079-813b-c7008dd1367b"
      },
      "source": [
        "## 2.2 ##\n",
        "norm_p2_X = normalize(p2_X)\n",
        "norm_p2_X2 = normalize(p2_X2)\n",
        "\n",
        "normP2KNN = KNNClassifier([], 'no_weight')\n",
        "normP2KNN.fit(norm_p2_X, p2_y)\n",
        "\n",
        "norm_p2_accuracy = normP2KNN.score(norm_p2_X2, p2_y2, 3)\n",
        "\n",
        "print(\"Final 2.2 accuracy: \", norm_p2_accuracy)"
      ],
      "execution_count": 167,
      "outputs": [
        {
          "output_type": "stream",
          "text": [
            "Final 2.2 accuracy:  0.8157815781578158\n"
          ],
          "name": "stdout"
        }
      ]
    },
    {
      "cell_type": "markdown",
      "metadata": {
        "id": "hGozGh_L2tJf"
      },
      "source": [
        "I was expecting a more significant increase in performance with the normalized data. But it is good that it increased at all, since normalization is supposed to increase performance. "
      ]
    },
    {
      "cell_type": "code",
      "metadata": {
        "colab": {
          "base_uri": "https://localhost:8080/",
          "height": 312
        },
        "id": "urKIGhrE264O",
        "outputId": "d83b8434-7027-4e38-ebb7-ff6c76a74402"
      },
      "source": [
        "## 2.3 ##\n",
        "accuracies = []\n",
        "for k in range(1, 16, 2):\n",
        "  accuracies.append(normP2KNN.score(norm_p2_X2, p2_y2, k))\n",
        "\n",
        "ks = [1,3,5,7,9,11,13,15]\n",
        "plt.title(\"Classification Accuracy vs K\")\n",
        "plt.xlabel('k')\n",
        "plt.ylabel('Accuracy')\n",
        "plt.plot(ks, accuracies)"
      ],
      "execution_count": 168,
      "outputs": [
        {
          "output_type": "execute_result",
          "data": {
            "text/plain": [
              "[<matplotlib.lines.Line2D at 0x7f6eacd5f650>]"
            ]
          },
          "metadata": {
            "tags": []
          },
          "execution_count": 168
        },
        {
          "output_type": "display_data",
          "data": {
            "image/png": "[encoded data removed]",
            "text/plain": [
              "<Figure size 432x288 with 1 Axes>"
            ]
          },
          "metadata": {
            "tags": [],
            "needs_background": "light"
          }
        }
      ]
    },
    {
      "cell_type": "code",
      "metadata": {
        "colab": {
          "base_uri": "https://localhost:8080/"
        },
        "id": "X8kAuMUk4kGV",
        "outputId": "633d73ec-9f08-44de-f69b-79e460eb2656"
      },
      "source": [
        "## PART 3 ##\n",
        "!curl https://raw.githubusercontent.com/cs472ta/CS472/master/datasets/housing_train.arff --output three-training-dataset.arff\n",
        "\n",
        "p3_data = arff.loadarff('three-training-dataset.arff')\n",
        "p3_df = pd.DataFrame(p3_data[0])\n",
        "\n",
        "p3_df['CHAS'] = [int(s.decode()) for s in p3_df['CHAS']]\n",
        "\n",
        "p3_data = np.array(p3_df)\n",
        "p3_X = p3_data[:,0:-1]\n",
        "p3_X = normalize(p3_X)\n",
        "p3_y = p3_df['MEDV']\n",
        "\n",
        "p3KNN = KNNClassifier([],'no_weight')\n",
        "p3KNN.fit(p3_X,p3_y)\n",
        "\n",
        "!curl https://raw.githubusercontent.com/cs472ta/CS472/master/datasets/housing_test.arff --output three-test-dataset.arff\n",
        "\n",
        "p3_data2 = arff.loadarff('three-test-dataset.arff')\n",
        "p3_df2 = pd.DataFrame(p3_data2[0])\n",
        "\n",
        "p3_df2['CHAS'] = [int(s.decode()) for s in p3_df2['CHAS']]\n",
        "\n",
        "p3_data2 = np.array(p3_df2)\n",
        "p3_X2 = p3_data2[:,0:-1]\n",
        "p3_X2 = normalize(p3_X2)\n",
        "p3_y2 = p3_df2['MEDV']"
      ],
      "execution_count": 169,
      "outputs": [
        {
          "output_type": "stream",
          "text": [
            "  % Total    % Received % Xferd  Average Speed   Time    Time     Time  Current\n",
            "                                 Dload  Upload   Total   Spent    Left  Speed\n",
            "100 34205  100 34205    0     0   168k      0 --:--:-- --:--:-- --:--:--  167k\n",
            "  % Total    % Received % Xferd  Average Speed   Time    Time     Time  Current\n",
            "                                 Dload  Upload   Total   Spent    Left  Speed\n",
            "100  3885  100  3885    0     0  22719      0 --:--:-- --:--:-- --:--:-- 22719\n"
          ],
          "name": "stdout"
        }
      ]
    },
    {
      "cell_type": "code",
      "metadata": {
        "id": "Zcf3KUSQELiM"
      },
      "source": [
        "mses = []\n",
        "for k in ks:\n",
        "  mses.append(p3KNN.score(p3_X2,p3_y2,k,True,True))"
      ],
      "execution_count": 170,
      "outputs": []
    },
    {
      "cell_type": "code",
      "metadata": {
        "colab": {
          "base_uri": "https://localhost:8080/",
          "height": 312
        },
        "id": "n9pyPBjsFiHh",
        "outputId": "37187644-5e94-4481-db3d-6f4545d8f32a"
      },
      "source": [
        "plt.title(\"Housing MSE vs K\")\n",
        "plt.xlabel(\"K\")\n",
        "plt.ylabel(\"MSE\")\n",
        "plt.plot(ks,mses)"
      ],
      "execution_count": 171,
      "outputs": [
        {
          "output_type": "execute_result",
          "data": {
            "text/plain": [
              "[<matplotlib.lines.Line2D at 0x7f6eac802890>]"
            ]
          },
          "metadata": {
            "tags": []
          },
          "execution_count": 171
        },
        {
          "output_type": "display_data",
          "data": {
            "image/png": "[encoded data removed]",
            "text/plain": [
              "<Figure size 432x288 with 1 Axes>"
            ]
          },
          "metadata": {
            "tags": [],
            "needs_background": "light"
          }
        }
      ]
    },
    {
      "cell_type": "code",
      "metadata": {
        "id": "tqPDLOyFXbmC"
      },
      "source": [
        "## PART 4 ##\n",
        "teleP4KNN = KNNClassifier([], 'inverse_distance')\n",
        "teleP4KNN.fit(norm_p2_X, p2_y)\n",
        "\n",
        "p4_accuracies = []\n",
        "for k in ks:\n",
        "  p4_accuracies.append(teleP4KNN.score(norm_p2_X2, p2_y2, k))"
      ],
      "execution_count": 172,
      "outputs": []
    },
    {
      "cell_type": "code",
      "metadata": {
        "colab": {
          "base_uri": "https://localhost:8080/",
          "height": 312
        },
        "id": "xw35RFLJH3Sm",
        "outputId": "4217090f-693b-47f0-ed14-9bbe99883059"
      },
      "source": [
        "plt.title(\"Classification Accuracy vs K (with distance weighting)\")\n",
        "plt.xlabel('k')\n",
        "plt.ylabel('Accuracy')\n",
        "plt.plot(ks, p4_accuracies)"
      ],
      "execution_count": 173,
      "outputs": [
        {
          "output_type": "execute_result",
          "data": {
            "text/plain": [
              "[<matplotlib.lines.Line2D at 0x7f6ebb3e5210>]"
            ]
          },
          "metadata": {
            "tags": []
          },
          "execution_count": 173
        },
        {
          "output_type": "display_data",
          "data": {
            "image/png": "[encoded data removed]",
            "text/plain": [
              "<Figure size 432x288 with 1 Axes>"
            ]
          },
          "metadata": {
            "tags": [],
            "needs_background": "light"
          }
        }
      ]
    },
    {
      "cell_type": "code",
      "metadata": {
        "id": "N3FrPpsHH330"
      },
      "source": [
        "houseP4KNN = KNNClassifier([],'inverse_distance')\n",
        "houseP4KNN.fit(p3_X,p3_y)\n",
        "\n",
        "p4_mses = []\n",
        "for k in ks:\n",
        "  p4_mses.append(houseP4KNN.score(p3_X2,p3_y2,k,True,True))"
      ],
      "execution_count": 174,
      "outputs": []
    },
    {
      "cell_type": "code",
      "metadata": {
        "colab": {
          "base_uri": "https://localhost:8080/",
          "height": 312
        },
        "id": "UarXVZpwIPyt",
        "outputId": "fd75d232-e599-4c29-917c-e177adf29162"
      },
      "source": [
        "plt.title(\"Housing MSE vs K (with distance weighting)\")\n",
        "plt.xlabel(\"K\")\n",
        "plt.ylabel(\"MSE\")\n",
        "plt.plot(ks,p4_mses)"
      ],
      "execution_count": 175,
      "outputs": [
        {
          "output_type": "execute_result",
          "data": {
            "text/plain": [
              "[<matplotlib.lines.Line2D at 0x7f6eb742e490>]"
            ]
          },
          "metadata": {
            "tags": []
          },
          "execution_count": 175
        },
        {
          "output_type": "display_data",
          "data": {
            "image/png": "[encoded data removed]",
            "text/plain": [
              "<Figure size 432x288 with 1 Axes>"
            ]
          },
          "metadata": {
            "tags": [],
            "needs_background": "light"
          }
        }
      ]
    },
    {
      "cell_type": "markdown",
      "metadata": {
        "id": "2ZPRk5PfIjq5"
      },
      "source": [
        "The telescope dataset performed very similarly with distance weighting. However, the best performance happened at a much higher k value (13, compared to 7 without distance weighting). The max accuracy was around 83.3%, whereas without distance weighting, the max accuracy was 82.9%. This negligible difference means distance weighting may not be worth it (considering the added computational strain) for this dataset.\n",
        "\n",
        "The housing dataset performed MUCH better with distance weighting. Without it, only one k value (3) yielded a decent MSE (16). However, with distance weighting, not only was the minimum better (11.5), but the average across the different k value was shockingly lower. Distance weighting made the algorithm perform much more consistently and better across different k values. Therefore, distance weighting is most definitely worth doing for this dataset."
      ]
    },
    {
      "cell_type": "code",
      "metadata": {
        "colab": {
          "base_uri": "https://localhost:8080/"
        },
        "id": "9vSq2TkCIkn1",
        "outputId": "e773ced4-6508-4075-a380-70117d768406"
      },
      "source": [
        "## PART 6 ##\n",
        "skClassifier1 = KNeighborsClassifier(n_neighbors=3, weights='distance', algorithm='auto')\n",
        "tele_p6_y = np.array(p2_y, dtype='str')\n",
        "skClassifier1.fit(norm_p2_X, tele_p6_y)\n",
        "tele_p6_y2 = np.array(p2_y2, dtype='str')\n",
        "accuracy1 = skClassifier1.score(norm_p2_X2, tele_p6_y2)\n",
        "print(\"Accuracy with the following hyperparameters:\\nn_neighbors=3, weights='distance', algorithm='auto'\\n\", accuracy1)"
      ],
      "execution_count": 176,
      "outputs": [
        {
          "output_type": "stream",
          "text": [
            "Accuracy with the following hyperparameters:\n",
            "n_neighbors=3, weights='distance', algorithm='auto'\n",
            " 0.8157815781578158\n"
          ],
          "name": "stdout"
        }
      ]
    },
    {
      "cell_type": "code",
      "metadata": {
        "colab": {
          "base_uri": "https://localhost:8080/"
        },
        "id": "vdTMgpOgKKKs",
        "outputId": "ce457d69-8790-404a-9dda-693480ebf19f"
      },
      "source": [
        "skClassifier2 = KNeighborsClassifier(n_neighbors=5, weights='uniform', algorithm='auto')\n",
        "skClassifier2.fit(norm_p2_X, tele_p6_y)\n",
        "accuracy2 = skClassifier2.score(norm_p2_X2, tele_p6_y2)\n",
        "print(\"Accuracy with the following hyperparameters:\\nn_neighbors=5, weights='uniform', algorithm='auto'\\n\", accuracy2)"
      ],
      "execution_count": 177,
      "outputs": [
        {
          "output_type": "stream",
          "text": [
            "Accuracy with the following hyperparameters:\n",
            "n_neighbors=5, weights='uniform', algorithm='auto'\n",
            " 0.8271827182718272\n"
          ],
          "name": "stdout"
        }
      ]
    },
    {
      "cell_type": "code",
      "metadata": {
        "colab": {
          "base_uri": "https://localhost:8080/"
        },
        "id": "cGk_fajrPSXk",
        "outputId": "dd435f50-b2fc-4fb7-bc03-c319dfb7815b"
      },
      "source": [
        "skClassifier3 = KNeighborsClassifier(n_neighbors=5, weights='distance', algorithm='auto')\n",
        "skClassifier3.fit(norm_p2_X, tele_p6_y)\n",
        "accuracy3 = skClassifier3.score(norm_p2_X2, tele_p6_y2)\n",
        "print(\"Accuracy with the following hyperparameters:\\nn_neighbors=5, weights='distance', algorithm='auto'\\n\", accuracy3)"
      ],
      "execution_count": 178,
      "outputs": [
        {
          "output_type": "stream",
          "text": [
            "Accuracy with the following hyperparameters:\n",
            "n_neighbors=5, weights='distance', algorithm='auto'\n",
            " 0.8274827482748275\n"
          ],
          "name": "stdout"
        }
      ]
    },
    {
      "cell_type": "code",
      "metadata": {
        "colab": {
          "base_uri": "https://localhost:8080/"
        },
        "id": "j0_fKhklPdQa",
        "outputId": "00688737-51a9-4661-f262-c1335f99977e"
      },
      "source": [
        "skClassifier4 = KNeighborsClassifier(n_neighbors=10, weights='distance', algorithm='auto')\n",
        "skClassifier4.fit(norm_p2_X, tele_p6_y)\n",
        "accuracy4 = skClassifier4.score(norm_p2_X2, tele_p6_y2)\n",
        "print(\"Accuracy with the following hyperparameters:\\nn_neighbors=10, weights='distance', algorithm='auto'\\n\", accuracy4)"
      ],
      "execution_count": 179,
      "outputs": [
        {
          "output_type": "stream",
          "text": [
            "Accuracy with the following hyperparameters:\n",
            "n_neighbors=10, weights='distance', algorithm='auto'\n",
            " 0.8303330333033303\n"
          ],
          "name": "stdout"
        }
      ]
    },
    {
      "cell_type": "markdown",
      "metadata": {
        "id": "pWR0uDcPPqJS"
      },
      "source": [
        "The distance weighting does not make as big of a difference as I was expecting, but it seems having more neighbors does. I was able to achieve similar, if not better accuracy with 3 neighbors and distance weighting."
      ]
    },
    {
      "cell_type": "code",
      "metadata": {
        "colab": {
          "base_uri": "https://localhost:8080/"
        },
        "id": "Yy1Wypv4P6BL",
        "outputId": "6d53c507-0b8c-4bfc-996f-b747535a3894"
      },
      "source": [
        "skRegressor1 = KNeighborsRegressor(n_neighbors=3,weights='distance', algorithm='auto')\n",
        "skRegressor1.fit(p3_X, p3_y)\n",
        "reg_accuracy1 = skRegressor1.score(p3_X2, p3_y2)\n",
        "print(\"Accuracy with the following hyperparameters:\\nn_neighbors=3, weights='distance', algorithm='auto'\\n\", reg_accuracy1)"
      ],
      "execution_count": 180,
      "outputs": [
        {
          "output_type": "stream",
          "text": [
            "Accuracy with the following hyperparameters:\n",
            "n_neighbors=3, weights='distance', algorithm='auto'\n",
            " 0.8312297109129108\n"
          ],
          "name": "stdout"
        }
      ]
    },
    {
      "cell_type": "code",
      "metadata": {
        "colab": {
          "base_uri": "https://localhost:8080/"
        },
        "id": "_xloNk6iREBm",
        "outputId": "9f46b4a1-4e90-42d9-9188-caee552baf27"
      },
      "source": [
        "skRegressor2 = KNeighborsRegressor(n_neighbors=2,weights='distance', algorithm='auto')\n",
        "skRegressor2.fit(p3_X, p3_y)\n",
        "reg_accuracy2 = skRegressor2.score(p3_X2, p3_y2)\n",
        "print(\"Accuracy with the following hyperparameters:\\nn_neighbors=2, weights='distance', algorithm='auto'\\n\", reg_accuracy2)"
      ],
      "execution_count": 181,
      "outputs": [
        {
          "output_type": "stream",
          "text": [
            "Accuracy with the following hyperparameters:\n",
            "n_neighbors=2, weights='distance', algorithm='auto'\n",
            " 0.8468857608958766\n"
          ],
          "name": "stdout"
        }
      ]
    },
    {
      "cell_type": "code",
      "metadata": {
        "colab": {
          "base_uri": "https://localhost:8080/"
        },
        "id": "ccCRT10NRQHH",
        "outputId": "1e6699d4-8434-472a-b44b-844b2b1a0594"
      },
      "source": [
        "skRegressor3 = KNeighborsRegressor(n_neighbors=2,weights='uniform', algorithm='auto')\n",
        "skRegressor3.fit(p3_X, p3_y)\n",
        "reg_accuracy3 = skRegressor3.score(p3_X2, p3_y2)\n",
        "print(\"Accuracy with the following hyperparameters:\\nn_neighbors=2, weights='uniform', algorithm='auto'\\n\", reg_accuracy3)"
      ],
      "execution_count": 182,
      "outputs": [
        {
          "output_type": "stream",
          "text": [
            "Accuracy with the following hyperparameters:\n",
            "n_neighbors=2, weights='uniform', algorithm='auto'\n",
            " 0.8458447338340306\n"
          ],
          "name": "stdout"
        }
      ]
    },
    {
      "cell_type": "code",
      "metadata": {
        "colab": {
          "base_uri": "https://localhost:8080/"
        },
        "id": "8-Rcw4bFRiJD",
        "outputId": "525eb99b-9307-43e0-932c-443f67fc3596"
      },
      "source": [
        "skRegressor4 = KNeighborsRegressor(n_neighbors=2,weights='distance', algorithm='ball_tree')\n",
        "skRegressor4.fit(p3_X, p3_y)\n",
        "reg_accuracy4 = skRegressor4.score(p3_X2, p3_y2)\n",
        "print(\"Accuracy with the following hyperparameters:\\nn_neighbors=2, weights='distance', algorithm='ball_tree'\\n\", reg_accuracy4)\n",
        "\n",
        "skRegressor5 = KNeighborsRegressor(n_neighbors=2,weights='distance', algorithm='kd_tree')\n",
        "skRegressor5.fit(p3_X, p3_y)\n",
        "reg_accuracy5 = skRegressor5.score(p3_X2, p3_y2)\n",
        "print(\"Accuracy with the following hyperparameters:\\nn_neighbors=2, weights='distance', algorithm='kd_tree'\\n\", reg_accuracy5)\n",
        "\n",
        "skRegressor6 = KNeighborsRegressor(n_neighbors=2,weights='distance', algorithm='brute')\n",
        "skRegressor6.fit(p3_X, p3_y)\n",
        "reg_accuracy6 = skRegressor6.score(p3_X2, p3_y2)\n",
        "print(\"Accuracy with the following hyperparameters:\\nn_neighbors=2, weights='distance', algorithm='brute'\\n\", reg_accuracy6)"
      ],
      "execution_count": 183,
      "outputs": [
        {
          "output_type": "stream",
          "text": [
            "Accuracy with the following hyperparameters:\n",
            "n_neighbors=2, weights='distance', algorithm='ball_tree'\n",
            " 0.8468857608958766\n",
            "Accuracy with the following hyperparameters:\n",
            "n_neighbors=2, weights='distance', algorithm='kd_tree'\n",
            " 0.8468857608958766\n",
            "Accuracy with the following hyperparameters:\n",
            "n_neighbors=2, weights='distance', algorithm='brute'\n",
            " 0.8468857608958763\n"
          ],
          "name": "stdout"
        }
      ]
    },
    {
      "cell_type": "markdown",
      "metadata": {
        "id": "X0pnW62RR94m"
      },
      "source": [
        "It's very interesting that the different algorithms yielded basically identical results. There was also almost no difference between distance weighting and no weighting. However, the amount of neighbors made a noticeable difference. It performed better when it was given a smaller k value."
      ]
    }
  ]
}