{
  "nbformat": 4,
  "nbformat_minor": 0,
  "metadata": {
    "colab": {
      "name": "Lab_1_Perceptron.ipynb",
      "provenance": [],
      "collapsed_sections": []
    },
    "kernelspec": {
      "name": "python3",
      "display_name": "Python 3"
    }
  },
  "cells": [
    {
      "cell_type": "code",
      "metadata": {
        "id": "nPaWOYwWEev2"
      },
      "source": [
        "from sklearn.base import BaseEstimator, ClassifierMixin\n",
        "from sklearn.linear_model import Perceptron\n",
        "import numpy as np\n",
        "import matplotlib.pyplot as plt\n",
        "\n",
        "class PerceptronClassifier(BaseEstimator,ClassifierMixin):\n",
        "\n",
        "    def __init__(self, numParameters, lr=.1, shuffle=True, deterministic=None):\n",
        "        \"\"\" \n",
        "            Initialize class with chosen hyperparameters.\n",
        "        Args:\n",
        "            lr (float): A learning rate / step size.\n",
        "            shuffle: Whether to shuffle the training data each epoch. DO NOT \n",
        "            SHUFFLE for evaluation / debug datasets.\n",
        "        \"\"\"\n",
        "        self.lr = lr\n",
        "        self.shuffle = shuffle\n",
        "        self.deterministic = deterministic\n",
        "        self.numParameters = numParameters\n",
        "\n",
        "    def fit(self, X, y, initial_weights=None):\n",
        "        \"\"\" \n",
        "            Fit the data; run the algorithm and adjust the weights to find a \n",
        "            good solution\n",
        "        Args:\n",
        "            X (array-like): A 2D numpy array with the training data, excluding\n",
        "            targets\n",
        "            y (array-like): A 1D numpy array with the training targets\n",
        "            initial_weights (array-like): allows the user to provide initial \n",
        "            weights\n",
        "        Returns:\n",
        "            self: this allows this to be chained, e.g. model.fit(X,y).predict(X_test)\n",
        "        \"\"\"\n",
        "        self.weights = self.initialize_weights() if not initial_weights else initial_weights\n",
        "\n",
        "        if self.deterministic == 10:\n",
        "          print(\"Starting 10 epochs of training...\")\n",
        "          for x in range(10):\n",
        "            numCorrect = 0\n",
        "            for data in range(len(y)):\n",
        "              net = np.dot(self.weights,X[data])\n",
        "\n",
        "              output = 0  \n",
        "              if net > 0:\n",
        "                output = 1\n",
        "\n",
        "              if output != y[data]:\n",
        "                for weight in range(len(self.weights)):\n",
        "                  self.weights[weight] += self.lr*(y[data] - output)*X[data][weight]\n",
        "              else:\n",
        "                numCorrect+= 1\n",
        "\n",
        "            iterationAccuracy = numCorrect/len(y)\n",
        "            if self.shuffle == True:\n",
        "              self._shuffle_data(self, X, y)\n",
        "        else:\n",
        "          num = 0\n",
        "          epochs = 0\n",
        "          iterationAccuracy = 0\n",
        "          while num < 5:\n",
        "            epochs += 1\n",
        "            numCorrect = 0\n",
        "            for data in range(len(y)):\n",
        "              net = np.dot(self.weights,X[data])\n",
        "              \n",
        "              if net > 0:\n",
        "                output = 1\n",
        "              else:\n",
        "                output = 0\n",
        "\n",
        "              if output != y[data]:\n",
        "                for weight in range(len(self.weights)):\n",
        "                  self.weights[weight] += self.lr*(y[data] - output)*X[data][weight]\n",
        "              else:\n",
        "                numCorrect += 1\n",
        "\n",
        "\n",
        "            previousAccuracy = iterationAccuracy\n",
        "            iterationAccuracy = numCorrect/y.size\n",
        "\n",
        "            if (iterationAccuracy - previousAccuracy) < 0.05:\n",
        "              num += 1\n",
        "\n",
        "            if self.shuffle == True:\n",
        "              self._shuffle_data(self, X, y)\n",
        "\n",
        "          print(\"Numer of epochs: \", epochs)\n",
        "\n",
        "        return self\n",
        "\n",
        "    def predict(self, X):\n",
        "        \"\"\" \n",
        "            Predict all classes for a dataset X\n",
        "        Args:\n",
        "            X (array-like): A 2D numpy array with the training data, excluding \n",
        "            targets\n",
        "        Returns:\n",
        "            array, shape (n_samples,)\n",
        "                Predicted target values per element in X.\n",
        "        \"\"\"\n",
        "\n",
        "        predictions = np.empty(X.shape[0])\n",
        "\n",
        "        for data in range(X.shape[0]):\n",
        "          net = np.dot(self.weights,X[data])\n",
        "\n",
        "          if net > 0:\n",
        "            output = 1\n",
        "          else:\n",
        "            output = 0\n",
        "            \n",
        "          predictions[data] = output\n",
        "\n",
        "        return predictions\n",
        "\n",
        "    def initialize_weights(self):\n",
        "        \"\"\" Initialize weights for perceptron. Don't forget the bias!\n",
        "        Returns:\n",
        "        \"\"\"\n",
        "        return np.zeros(self.numParameters)\n",
        "\n",
        "    def score(self, X, y):\n",
        "        \"\"\" \n",
        "            Return accuracy of model on a given dataset. Must implement own \n",
        "            score function.\n",
        "        Args:\n",
        "            X (array-like): A 2D numpy array with data, excluding targets\n",
        "            y (array-like): A 2D numpy array with targets\n",
        "        Returns:\n",
        "            score : float\n",
        "                Mean accuracy of self.predict(X) wrt. y.\n",
        "        \"\"\"\n",
        "\n",
        "        results = self.predict(X)\n",
        "\n",
        "        numCorrect = 0\n",
        "        for i in range(len(y)):\n",
        "          if results[i] == y[i]:\n",
        "            numCorrect += 1\n",
        "\n",
        "        return numCorrect/y.shape[0]\n",
        "\n",
        "    def _shuffle_data(self, X, y):\n",
        "        \"\"\" \n",
        "            Shuffle the data! This _ prefix suggests that this method should \n",
        "            only be called internally.\n",
        "            It might be easier to concatenate X & y and shuffle a single 2D \n",
        "            array, rather than shuffling X and y exactly the same way, \n",
        "            independently.\n",
        "        \"\"\"\n",
        "        import random\n",
        "\n",
        "        random.shuffle(X)\n",
        "        random.shuffle(y)\n",
        "\n",
        "    ### Not required by sk-learn but required by us for grading. Returns the weights.\n",
        "    def get_weights(self):\n",
        "        return self.weights\n"
      ],
      "execution_count": 45,
      "outputs": []
    },
    {
      "cell_type": "code",
      "metadata": {
        "colab": {
          "base_uri": "https://localhost:8080/"
        },
        "id": "l-qsL9YSKNWz",
        "outputId": "b12d3d5c-8259-4fa2-967b-f3daeb2fa621"
      },
      "source": [
        "# DEBUG DATASET\n",
        "\n",
        "from scipy.io import arff\n",
        "import pandas as pd\n",
        "\n",
        "# Download file with curl\n",
        "!curl https://raw.githubusercontent.com/cs472ta/CS472/master/datasets/linsep2nonorigin.arff --output debug-dataset.arff\n",
        "\n",
        "data = arff.loadarff('debug-dataset.arff')\n",
        "df = pd.DataFrame(data[0])\n",
        "\n",
        "df['class'] = [int(s.decode()) for s in df['class']]\n",
        "\n",
        "data = np.array(df)\n",
        "X = data[:,0:-1]\n",
        "biasInputs = np.ones((X.shape[0],1))\n",
        "X = np.append(X, biasInputs, 1)\n",
        "y = df['class']\n",
        "\n",
        "debugPerceptron = PerceptronClassifier( X.shape[1], .1, False, 10)\n",
        "\n",
        "debugPerceptron.fit(X, y)\n",
        "accuracy = debugPerceptron.score(X, y)\n",
        "\n",
        "print(\"Final weights: \", debugPerceptron.get_weights())\n",
        "print(\"Final accuracy: \", accuracy)"
      ],
      "execution_count": 3,
      "outputs": [
        {
          "output_type": "stream",
          "text": [
            "  % Total    % Received % Xferd  Average Speed   Time    Time     Time  Current\n",
            "                                 Dload  Upload   Total   Spent    Left  Speed\n",
            "\r  0     0    0     0    0     0      0      0 --:--:-- --:--:-- --:--:--     0\r100   197  100   197    0     0   1254      0 --:--:-- --:--:-- --:--:--  1254\n",
            "Starting 10 epochs of training...\n",
            "Final weights:  [-0.23  0.18 -0.1 ]\n",
            "Final accuracy:  0.875\n"
          ],
          "name": "stdout"
        }
      ]
    },
    {
      "cell_type": "code",
      "metadata": {
        "colab": {
          "base_uri": "https://localhost:8080/"
        },
        "id": "wWUGIwx7LOF3",
        "outputId": "78f3ad3f-a4e2-4567-bbab-1553b5cf8ee8"
      },
      "source": [
        "# EVALUATION DATASET\n",
        "\n",
        "# Download file with curl\n",
        "!curl https://raw.githubusercontent.com/cs472ta/CS472/master/datasets/data_banknote_authentication.arff --output evaluation-dataset.arff\n",
        "\n",
        "data2 = arff.loadarff('evaluation-dataset.arff')\n",
        "df2 = pd.DataFrame(data2[0])\n",
        "\n",
        "df2['class'] = [int(s.decode()) for s in df2['class']]\n",
        "\n",
        "data2 = np.array(df2)\n",
        "X2 = data2[:,0:-1]\n",
        "biasInputs2 = np.ones((X2.shape[0],1))\n",
        "X2 = np.append(X2, biasInputs2, 1)\n",
        "y2 = df2['class']\n",
        "\n",
        "evalPerceptron = PerceptronClassifier(X2.shape[1], .1, False, 10)\n",
        "\n",
        "evalPerceptron.fit(X2, y2)\n",
        "accuracy2 = evalPerceptron.score(X2, y2)\n",
        "\n",
        "print(\"Final weights: \", evalPerceptron.get_weights())\n",
        "print(\"Final accuracy: \", accuracy2)"
      ],
      "execution_count": 35,
      "outputs": [
        {
          "output_type": "stream",
          "text": [
            "  % Total    % Received % Xferd  Average Speed   Time    Time     Time  Current\n",
            "                                 Dload  Upload   Total   Spent    Left  Speed\n",
            "\r  0     0    0     0    0     0      0      0 --:--:-- --:--:-- --:--:--     0\r  0     0    0     0    0     0      0      0 --:--:-- --:--:-- --:--:--     0\r100 46685  100 46685    0     0   239k      0 --:--:-- --:--:-- --:--:--  238k\n",
            "0       0\n",
            "1       0\n",
            "2       0\n",
            "3       0\n",
            "4       0\n",
            "       ..\n",
            "1367    1\n",
            "1368    1\n",
            "1369    1\n",
            "1370    1\n",
            "1371    1\n",
            "Name: class, Length: 1372, dtype: int64\n",
            "5\n",
            "Starting 10 epochs of training...\n",
            "Final weights:  [-3.80657242 -2.840821   -3.0719334  -1.4003906   4.9       ]\n",
            "Final accuracy:  0.9876093294460642\n"
          ],
          "name": "stdout"
        }
      ]
    },
    {
      "cell_type": "markdown",
      "metadata": {
        "id": "HC8hyi5CuABZ"
      },
      "source": [
        "Final weights after running the Evaluation Dataset: [-3.80657242, -2.840821,   -3.0719334,  -1.4003906,   4.9   ]"
      ]
    },
    {
      "cell_type": "code",
      "metadata": {
        "colab": {
          "base_uri": "https://localhost:8080/",
          "height": 312
        },
        "id": "66Scch2yuRuW",
        "outputId": "4d537cb2-f0ff-4bee-94e6-7fe45c05ecea"
      },
      "source": [
        "# CREATE AND GRAPH 2 DATASETS\n",
        "\n",
        "import matplotlib.pyplot as plt\n",
        "\n",
        "dataset1 = np.array([[-0.245, 0.123, 1], [-0.233, -0.534, 1], [-0.59, -0.112, 1], [-0.3, 0.6, 1], [0.3, 0.1, 0], [0.2, -0.1, 0], [0.7, -0.1, 0], [0.5, -0.8, 0]])\n",
        "\n",
        "plt.title('Linearly Separable Data')\n",
        "plt.xlabel('X')\n",
        "plt.ylabel('Y')\n",
        "\n",
        "plt.scatter(dataset1[:,0], dataset1[:,1], c=dataset1[:,2])\n",
        "plt.show"
      ],
      "execution_count": 57,
      "outputs": [
        {
          "output_type": "execute_result",
          "data": {
            "text/plain": [
              "<function matplotlib.pyplot.show>"
            ]
          },
          "metadata": {
            "tags": []
          },
          "execution_count": 57
        },
        {
          "output_type": "display_data",
          "data": {
            "image/png": "[encoded data removed]",
            "text/plain": [
              "<Figure size 432x288 with 1 Axes>"
            ]
          },
          "metadata": {
            "tags": [],
            "needs_background": "light"
          }
        }
      ]
    },
    {
      "cell_type": "code",
      "metadata": {
        "colab": {
          "base_uri": "https://localhost:8080/",
          "height": 312
        },
        "id": "1LhfQ4yD7wHx",
        "outputId": "bd69e5e9-cf4c-4e03-e9ee-9565ef774f72"
      },
      "source": [
        "dataset2 = np.array([[-0.1, 0.1, 1], [-0.5, -0.1, 1], [0.2, -0.1, 1], [0.5, -0.8, 1], [-0.2, -0.5, 0], [-0.3, 0.6, 0], [0.3, 0.1, 0], [0.7, -0.1, 0]])\n",
        "\n",
        "plt.title('Non-Linearly Separable Data')\n",
        "plt.xlabel('X')\n",
        "plt.ylabel('Y')\n",
        "\n",
        "plt.scatter(dataset2[:,0], dataset2[:,1], c=dataset2[:,2])\n",
        "plt.show"
      ],
      "execution_count": 32,
      "outputs": [
        {
          "output_type": "execute_result",
          "data": {
            "text/plain": [
              "<function matplotlib.pyplot.show>"
            ]
          },
          "metadata": {
            "tags": []
          },
          "execution_count": 32
        },
        {
          "output_type": "display_data",
          "data": {
            "image/png": "[encoded data removed]",
            "text/plain": [
              "<Figure size 432x288 with 1 Axes>"
            ]
          },
          "metadata": {
            "tags": [],
            "needs_background": "light"
          }
        }
      ]
    },
    {
      "cell_type": "code",
      "metadata": {
        "colab": {
          "base_uri": "https://localhost:8080/"
        },
        "id": "lFc74dQC_FVC",
        "outputId": "0d0c0a7c-472f-4f25-a3a4-38310d391ebe"
      },
      "source": [
        "# TRAIN ON THE CREATED DATASETS\n",
        "\n",
        "X3 = dataset1[:,0:-1]\n",
        "biasInputs3 = np.ones((X3.shape[0],1))\n",
        "X3 = np.append(X3, biasInputs3, 1)\n",
        "y3 = np.transpose(dataset1[:,2])\n",
        "\n",
        "X4 = dataset2[:,0:-1]\n",
        "X4 = np.append(X4, biasInputs3, 1)\n",
        "y4 = np.transpose(dataset2[:,2])\n",
        "\n",
        "print(\"LEARNING RATE = 0.3\")\n",
        "perceptron1 = PerceptronClassifier(X3.shape[1], 0.3, False)\n",
        "perceptron1.fit(X3, y3)\n",
        "\n",
        "print(\"Final weights for dataset1: \", perceptron1.get_weights())\n",
        "print(\"Final accuracy for dataset1: \", perceptron1.score(X3, y3))\n",
        "\n",
        "perceptron2 = PerceptronClassifier(X4.shape[1], 0.3, False)\n",
        "perceptron2.fit(X4, y4)\n",
        "\n",
        "print(\"Final weights for dataset2: \", perceptron2.get_weights())\n",
        "print(\"Final accuracy for dataset2: \", perceptron2.score(X4, y4))\n",
        "\n",
        "print(\"LEARNING RATE = 0.1\")\n",
        "perceptron3 = PerceptronClassifier(X3.shape[1], 0.3, False)\n",
        "perceptron3.fit(X3, y3)\n",
        "\n",
        "weightsForGraph1 = perceptron3.get_weights()\n",
        "\n",
        "print(\"Final weights for dataset1: \", weightsForGraph1)\n",
        "print(\"Final accuracy for dataset1: \", perceptron3.score(X3, y3))\n",
        "\n",
        "perceptron4 = PerceptronClassifier(X4.shape[1], 0.3, False)\n",
        "perceptron4.fit(X4, y4)\n",
        "\n",
        "weightsForGraph2 = perceptron4.get_weights()\n",
        "\n",
        "print(\"Final weights for dataset2: \", weightsForGraph2)\n",
        "print(\"Final accuracy for dataset2: \", perceptron4.score(X4, y4))\n"
      ],
      "execution_count": 58,
      "outputs": [
        {
          "output_type": "stream",
          "text": [
            "LEARNING RATE = 0.3\n",
            "Numer of epochs:  7\n",
            "Final weights for dataset1:  [-0.1635  0.0069  0.    ]\n",
            "Final accuracy for dataset1:  1.0\n",
            "Numer of epochs:  9\n",
            "Final weights for dataset2:  [-0.03 -0.18  0.  ]\n",
            "Final accuracy for dataset2:  0.75\n",
            "LEARNING RATE = 0.1\n",
            "Numer of epochs:  7\n",
            "Final weights for dataset1:  [-0.1635  0.0069  0.    ]\n",
            "Final accuracy for dataset1:  1.0\n",
            "Numer of epochs:  9\n",
            "Final weights for dataset2:  [-0.03 -0.18  0.  ]\n",
            "Final accuracy for dataset2:  0.75\n"
          ],
          "name": "stdout"
        }
      ]
    },
    {
      "cell_type": "markdown",
      "metadata": {
        "id": "WVIaj4k8ENsa"
      },
      "source": [
        "For dataset 1, 7 epochs are completed, whereas for dataset 2, 9 epochs are completed. Changing the learning rate made no difference in that measure. The learning rate also had no effect on the final weights and accuracy for the 2 datasets."
      ]
    },
    {
      "cell_type": "code",
      "metadata": {
        "colab": {
          "base_uri": "https://localhost:8080/",
          "height": 295
        },
        "id": "N2klHvOgF4hQ",
        "outputId": "16b14593-9628-4566-8239-0dedfa8d813e"
      },
      "source": [
        "# GRAPH DECISION LINES\n",
        "\n",
        "x = np.linspace(-1, 1, 100)\n",
        "y = (-weightsForGraph1[0]/weightsForGraph1[1])*x - (weightsForGraph1[2]/weightsForGraph1[1])\n",
        "\n",
        "plt.title('Linearly Separable Data')\n",
        "plt.xlabel('X')\n",
        "plt.ylabel('Y')\n",
        "\n",
        "plt.scatter(dataset1[:,0], dataset1[:,1], c=dataset1[:,2])\n",
        "plt.plot(x,y, '-r')\n",
        "plt.xlim(-1, 1)\n",
        "plt.ylim(-1,1)\n",
        "plt.grid()\n",
        "plt.show()"
      ],
      "execution_count": 60,
      "outputs": [
        {
          "output_type": "display_data",
          "data": {
            "image/png": "[encoded data removed]",
            "text/plain": [
              "<Figure size 432x288 with 1 Axes>"
            ]
          },
          "metadata": {
            "tags": [],
            "needs_background": "light"
          }
        }
      ]
    },
    {
      "cell_type": "code",
      "metadata": {
        "colab": {
          "base_uri": "https://localhost:8080/",
          "height": 295
        },
        "id": "DYq6y6QFJWex",
        "outputId": "5e943bb2-1d03-459e-8217-c02aebf8874c"
      },
      "source": [
        "x = np.linspace(-1, 1, 100)\n",
        "y = (-weightsForGraph2[0]/weightsForGraph2[1])*x - (weightsForGraph2[2]/weightsForGraph2[1])\n",
        "\n",
        "plt.title('Linearly Separable Data')\n",
        "plt.xlabel('X')\n",
        "plt.ylabel('Y')\n",
        "\n",
        "plt.scatter(dataset2[:,0], dataset2[:,1], c=dataset2[:,2])\n",
        "plt.plot(x,y, '-r')\n",
        "plt.xlim(-1, 1)\n",
        "plt.ylim(-1,1)\n",
        "plt.grid()\n",
        "plt.show()"
      ],
      "execution_count": 61,
      "outputs": [
        {
          "output_type": "display_data",
          "data": {
            "image/png": "[encoded data removed]",
            "text/plain": [
              "<Figure size 432x288 with 1 Axes>"
            ]
          },
          "metadata": {
            "tags": [],
            "needs_background": "light"
          }
        }
      ]
    }
  ]
}